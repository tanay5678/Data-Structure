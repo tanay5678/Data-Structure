{
 "cells": [
  {
   "cell_type": "code",
   "execution_count": 2,
   "metadata": {},
   "outputs": [
    {
     "name": "stdout",
     "output_type": "stream",
     "text": [
      "{1: 2, 2: 4, 3: 6}\n",
      "<class 'dict'>\n"
     ]
    }
   ],
   "source": [
    "d = {1:2,2:4,3:6}\n",
    "print(d)\n",
    "print(type(d))"
   ]
  },
  {
   "cell_type": "code",
   "execution_count": 3,
   "metadata": {},
   "outputs": [
    {
     "name": "stdout",
     "output_type": "stream",
     "text": [
      "2\n"
     ]
    }
   ],
   "source": [
    "#get function return the value of that key \n",
    "\n",
    "print(d.get(1))\n"
   ]
  },
  {
   "cell_type": "code",
   "execution_count": 7,
   "metadata": {},
   "outputs": [
    {
     "name": "stdout",
     "output_type": "stream",
     "text": [
      "dict_items([(1, 2), (2, 4), (3, 6)])\n",
      "dict_keys([1, 2, 3])\n",
      "dict_values([2, 4, 6])\n"
     ]
    }
   ],
   "source": [
    "print(d.items())\n",
    "print(d.keys())\n",
    "print(d.values())"
   ]
  },
  {
   "cell_type": "code",
   "execution_count": 10,
   "metadata": {},
   "outputs": [],
   "source": [
    "d1 = {'name':'tanay',2:123,'age':27}"
   ]
  },
  {
   "cell_type": "code",
   "execution_count": 12,
   "metadata": {},
   "outputs": [
    {
     "name": "stdout",
     "output_type": "stream",
     "text": [
      "{'name': 'tanay', 2: 123, 'age': 27, 'degree': 'B.Tech'}\n"
     ]
    }
   ],
   "source": [
    "#add \n",
    "\n",
    "d1['degree'] = 'B.Tech'\n",
    "print(d1)"
   ]
  },
  {
   "cell_type": "code",
   "execution_count": 13,
   "metadata": {},
   "outputs": [
    {
     "name": "stdout",
     "output_type": "stream",
     "text": [
      "{'name': 'Kale', 2: 123, 'age': 27, 'degree': 'B.Tech'}\n"
     ]
    }
   ],
   "source": [
    "#modify\n",
    "\n",
    "d1['name'] = 'Kale'\n",
    "print(d1)"
   ]
  },
  {
   "cell_type": "code",
   "execution_count": 14,
   "metadata": {},
   "outputs": [
    {
     "name": "stdout",
     "output_type": "stream",
     "text": [
      "('name', 'Kale')\n",
      "(2, 123)\n",
      "('age', 27)\n",
      "('degree', 'B.Tech')\n"
     ]
    }
   ],
   "source": [
    "for pair in d1.items():\n",
    "    print(pair)"
   ]
  },
  {
   "cell_type": "code",
   "execution_count": 18,
   "metadata": {},
   "outputs": [
    {
     "name": "stdout",
     "output_type": "stream",
     "text": [
      "name:Kale \n",
      "2:123 \n",
      "age:27 \n",
      "degree:B.Tech \n"
     ]
    }
   ],
   "source": [
    "for k,v in d1.items():\n",
    "    print(f'{k}:{v} ')"
   ]
  },
  {
   "cell_type": "code",
   "execution_count": 24,
   "metadata": {},
   "outputs": [
    {
     "name": "stdout",
     "output_type": "stream",
     "text": [
      "3:3\n",
      "4:4\n",
      "5:5\n"
     ]
    }
   ],
   "source": [
    "d2 = {1:1,2:2,3:3,4:4,5:5}\n",
    "\n",
    "for k,v in d2.items():\n",
    "    if v>2:\n",
    "        print(f'{k}:{v}')"
   ]
  },
  {
   "cell_type": "code",
   "execution_count": 25,
   "metadata": {},
   "outputs": [
    {
     "name": "stdout",
     "output_type": "stream",
     "text": [
      "3:6\n",
      "4:8\n",
      "5:10\n"
     ]
    }
   ],
   "source": [
    "for k,v in d2.items():\n",
    "    if v>2:\n",
    "        print(f'{k}:{v*2}')"
   ]
  },
  {
   "cell_type": "code",
   "execution_count": null,
   "metadata": {},
   "outputs": [],
   "source": []
  },
  {
   "cell_type": "code",
   "execution_count": null,
   "metadata": {},
   "outputs": [],
   "source": []
  },
  {
   "cell_type": "code",
   "execution_count": null,
   "metadata": {},
   "outputs": [],
   "source": []
  }
 ],
 "metadata": {
  "kernelspec": {
   "display_name": "Python 3",
   "language": "python",
   "name": "python3"
  },
  "language_info": {
   "codemirror_mode": {
    "name": "ipython",
    "version": 3
   },
   "file_extension": ".py",
   "mimetype": "text/x-python",
   "name": "python",
   "nbconvert_exporter": "python",
   "pygments_lexer": "ipython3",
   "version": "3.7.3"
  }
 },
 "nbformat": 4,
 "nbformat_minor": 2
}
